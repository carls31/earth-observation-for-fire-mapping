{
 "cells": [
  {
   "cell_type": "code",
   "execution_count": 1,
   "metadata": {},
   "outputs": [],
   "source": [
    "import ipywidgets as widgets\n",
    "from IPython.display import display\n",
    "import geemap\n",
    "import ee"
   ]
  },
  {
   "cell_type": "code",
   "execution_count": 2,
   "metadata": {},
   "outputs": [
    {
     "data": {
      "text/html": [
       "<p>To authorize access needed by Earth Engine, open the following\n",
       "        URL in a web browser and follow the instructions:</p>\n",
       "        <p><a href=https://code.earthengine.google.com/client-auth?scopes=https%3A//www.googleapis.com/auth/earthengine%20https%3A//www.googleapis.com/auth/devstorage.full_control&request_id=8BiZJi4WaKhsI0EarKIbgsDGQgtiB5jF0TZ09eFjBPg&tc=oWbA4KiGJWw_hSYhK7xPABUTyRwebhVba2WDD_CB8jM&cc=F9UrZsn34lAYOdvK8p0FbiXLSD4aLjEPZd-2g-TcA4A>https://code.earthengine.google.com/client-auth?scopes=https%3A//www.googleapis.com/auth/earthengine%20https%3A//www.googleapis.com/auth/devstorage.full_control&request_id=8BiZJi4WaKhsI0EarKIbgsDGQgtiB5jF0TZ09eFjBPg&tc=oWbA4KiGJWw_hSYhK7xPABUTyRwebhVba2WDD_CB8jM&cc=F9UrZsn34lAYOdvK8p0FbiXLSD4aLjEPZd-2g-TcA4A</a></p>\n",
       "        <p>The authorization workflow will generate a code, which you should paste in the box below.</p>\n",
       "        "
      ],
      "text/plain": [
       "<IPython.core.display.HTML object>"
      ]
     },
     "metadata": {},
     "output_type": "display_data"
    },
    {
     "name": "stdout",
     "output_type": "stream",
     "text": [
      "\n",
      "Successfully saved authorization token.\n"
     ]
    }
   ],
   "source": [
    "ee.Authenticate()"
   ]
  },
  {
   "cell_type": "markdown",
   "metadata": {},
   "source": [
    "Initialize Earth Engine"
   ]
  },
  {
   "cell_type": "code",
   "execution_count": 3,
   "metadata": {},
   "outputs": [],
   "source": [
    "ee.Initialize()"
   ]
  },
  {
   "cell_type": "markdown",
   "metadata": {},
   "source": [
    "Load dataset imagery and define pre and post wildfire period"
   ]
  },
  {
   "cell_type": "code",
   "execution_count": 6,
   "metadata": {},
   "outputs": [
    {
     "data": {
      "application/vnd.jupyter.widget-view+json": {
       "model_id": "0388f84786f643019d72a53e9df85fc9",
       "version_major": 2,
       "version_minor": 0
      },
      "text/plain": [
       "ToggleButtons(description='Select:', options=('Mosquito', 'Rabbit', 'Rhodes', 'Palermo'), tooltips=('Region: M…"
      ]
     },
     "metadata": {},
     "output_type": "display_data"
    }
   ],
   "source": [
    "class CaseStudy:\n",
    "    def __init__(self, **kwargs):\n",
    "        for key, value in kwargs.items():\n",
    "            setattr(self, key, value)\n",
    "\n",
    "# Define the case study information\n",
    "case_studies = [\n",
    "    CaseStudy(\n",
    "        geometry= ee.FeatureCollection(\"projects/ee-lorenzocarlassara/assets/mosquitoFire\"),\n",
    "        fire_name= 'Mosquito',\n",
    "        region_name= 'Placer, California',\n",
    "        aoi_name= 'Placer',\n",
    "        pre_date_start= '2022-08-01',\n",
    "        pre_date_end= '2022-08-30',\n",
    "        post_date_start= '2022-09-20',\n",
    "        post_date_end= '2022-10-10',\n",
    "        point= ee.Geometry.Point(-120.682, 39.027),\n",
    "        start= '2022-09-01',\n",
    "        end= '2022-09-20',\n",
    "        ndwiThreshold= 0.55,\n",
    "        zoom_level= 11\n",
    "    ),\n",
    "    CaseStudy(\n",
    "        geometry= ee.FeatureCollection(\"projects/ee-lorenzocarlassara/assets/rabbitFire\"),\n",
    "        fire_name= 'Rabbit',\n",
    "        region_name= 'Riverside, California',\n",
    "        aoi_name= 'Riverside',\n",
    "        pre_date_start= '2023-06-13',\n",
    "        pre_date_end= '2023-07-13',\n",
    "        post_date_start= '2023-07-23',\n",
    "        post_date_end= '2023-08-13',\n",
    "        point= ee.Geometry.Point(-117.01976, 33.88876),\n",
    "        start= '2023-07-14',\n",
    "        end= '2023-07-22',\n",
    "        ndwiThreshold= 0.95,\n",
    "        zoom_level= 12\n",
    "    ),\n",
    "    CaseStudy(\n",
    "        geometry=ee.FeatureCollection(\"projects/ee-lorenzocarlassara/assets/rhodes\"),\n",
    "        fire_name='Rhodes',\n",
    "        region_name='Dodekanisou, Greece',\n",
    "        aoi_name='Dodekanisou',\n",
    "        pre_date_start='2023-06-17',\n",
    "        pre_date_end='2023-07-17',\n",
    "        post_date_start='2023-08-01',\n",
    "        post_date_end='2023-08-20',\n",
    "        point=ee.Geometry.Point(27.9536, 36.1254),\n",
    "        start='2023-07-18',\n",
    "        end='2023-07-30',\n",
    "        ndwiThreshold=0.05,\n",
    "        zoom_level=11\n",
    "    ),\n",
    "    CaseStudy(\n",
    "        geometry=ee.FeatureCollection(\"projects/ee-lorenzocarlassara/assets/palermo\"),\n",
    "        fire_name='Palermo',\n",
    "        region_name='Sicily, Italy',\n",
    "        aoi_name='Palermo',\n",
    "        pre_date_start='2023-06-25',\n",
    "        pre_date_end='2023-07-25',\n",
    "        post_date_start='2023-08-05',\n",
    "        post_date_end='2023-08-25',\n",
    "        point=ee.Geometry.Point(13.289, 38.1),\n",
    "        start='2023-07-21',\n",
    "        end='2023-08-09',\n",
    "        ndwiThreshold=0.15,\n",
    "        zoom_level=11\n",
    "    )\n",
    "]\n",
    "\n",
    "case_study_buttons = widgets.ToggleButtons(\n",
    "    options=[case.fire_name for case in case_studies],\n",
    "    description='Select:',\n",
    "    tooltips=[f\"Region: {case.fire_name}\\nStart Date: {case.start}\\nEnd Date: {case.end}\" for case in case_studies]\n",
    ")\n",
    "\n",
    "# Display the dropdown widget\n",
    "display(case_study_buttons)"
   ]
  },
  {
   "cell_type": "code",
   "execution_count": 10,
   "metadata": {},
   "outputs": [
    {
     "data": {
      "text/plain": [
       "'Rhodes'"
      ]
     },
     "execution_count": 10,
     "metadata": {},
     "output_type": "execute_result"
    }
   ],
   "source": [
    "#case_studies[case_study_buttons.index].fire_name\n",
    "case_study_buttons.value"
   ]
  },
  {
   "cell_type": "code",
   "execution_count": 11,
   "metadata": {},
   "outputs": [],
   "source": [
    "# Center the map on the point\n",
    "Map = geemap.Map()\n",
    "Map.centerObject(case_studies[case_study_buttons.index].point, case_studies[case_study_buttons.index].zoom_level)"
   ]
  },
  {
   "cell_type": "markdown",
   "metadata": {},
   "source": [
    "Define the Area of Interest"
   ]
  },
  {
   "cell_type": "code",
   "execution_count": 12,
   "metadata": {},
   "outputs": [],
   "source": [
    "# Load the admin2 feature collection\n",
    "admin2 = ee.FeatureCollection('FAO/GAUL_SIMPLIFIED_500m/2015/level2')\n",
    "\n",
    "# Filter the admin2 feature collection based on the ADM2 name\n",
    "aoi = admin2.filter(ee.Filter.eq('ADM2_NAME', case_studies[case_study_buttons.index].aoi_name))\n",
    "\n",
    "# Create visualization parameters\n",
    "vis_params = {'color': 'red'}"
   ]
  },
  {
   "cell_type": "code",
   "execution_count": 39,
   "metadata": {},
   "outputs": [],
   "source": [
    "# Add the AOI layer with the specified visualization parameters\n",
    "Map.addLayer(aoi, vis_params, case_studies[case_study_buttons.index].aoi_name, 0)"
   ]
  },
  {
   "cell_type": "markdown",
   "metadata": {},
   "source": [
    "FIRMS & MODIS"
   ]
  },
  {
   "cell_type": "code",
   "execution_count": 13,
   "metadata": {},
   "outputs": [],
   "source": [
    "# Load FIRMS dataset\n",
    "dataset = (ee.ImageCollection(\"FIRMS\")\n",
    "           .select(['T21'])\n",
    "           .filterDate(case_studies[case_study_buttons.index].start, case_studies[case_study_buttons.index].end))\n",
    "\n",
    "# Visualization parameters for FIRMS data\n",
    "firesVis = {\n",
    "    'min': 325.0,\n",
    "    'max': 400.0,\n",
    "    'palette': ['yellow', 'orange', 'red']\n",
    "}"
   ]
  },
  {
   "cell_type": "code",
   "execution_count": 41,
   "metadata": {},
   "outputs": [],
   "source": [
    "Map.addLayer(dataset, firesVis, 'Fires',0)"
   ]
  },
  {
   "cell_type": "markdown",
   "metadata": {},
   "source": [
    "Landsat-8"
   ]
  },
  {
   "cell_type": "code",
   "execution_count": 14,
   "metadata": {},
   "outputs": [],
   "source": [
    "# Load LANDSAT-8 Collection and apply filters\n",
    "LS8Collection = (ee.ImageCollection('LANDSAT/LC08/C02/T1_TOA')\n",
    "                 .filter(ee.Filter.lt('CLOUD_COVER_LAND', 10))\n",
    "                 .filterBounds(aoi))\n",
    "\n",
    "# Calculate pre-fire and post-fire median images\n",
    "LS8_prefire = LS8Collection.filterDate(case_studies[case_study_buttons.index].pre_date_start, case_studies[case_study_buttons.index].pre_date_end).median()\n",
    "LS8_postfire = LS8Collection.filterDate(case_studies[case_study_buttons.index].post_date_start, case_studies[case_study_buttons.index].post_date_end).median()\n",
    "\n",
    "# Visualization parameters for LANDSAT-8 RGB\n",
    "LS8_rgbVis = {\n",
    "    'min': 0.0,\n",
    "    'max': 0.3,\n",
    "    'bands': ['B5', 'B4', 'B3']\n",
    "}"
   ]
  },
  {
   "cell_type": "markdown",
   "metadata": {},
   "source": [
    "Define the function to mask clouds from Sentinel-2 images"
   ]
  },
  {
   "cell_type": "code",
   "execution_count": 15,
   "metadata": {},
   "outputs": [],
   "source": [
    "# Define the maskS2clouds function\n",
    "def maskS2clouds(image):\n",
    "    qa = image.select('QA60')\n",
    "\n",
    "    # Bits 10 and 11 are clouds and cirrus, respectively.\n",
    "    cloudBitMask = 1 << 10\n",
    "    cirrusBitMask = 1 << 11\n",
    "\n",
    "    # Both flags should be set to zero, indicating clear conditions.\n",
    "    mask = qa.bitwiseAnd(cloudBitMask).eq(0) \\\n",
    "        .And(qa.bitwiseAnd(cirrusBitMask).eq(0))\n",
    "\n",
    "    return image.updateMask(mask).divide(10000)"
   ]
  },
  {
   "cell_type": "markdown",
   "metadata": {},
   "source": [
    "Define the pre and post wildfire images from Sentinel-2"
   ]
  },
  {
   "cell_type": "code",
   "execution_count": 16,
   "metadata": {},
   "outputs": [],
   "source": [
    "# Define Sentinel-2 collection and filter conditions\n",
    "SE2Collection = ee.ImageCollection('COPERNICUS/S2_SR') \\\n",
    "                .filter(ee.Filter.lt('CLOUDY_PIXEL_PERCENTAGE', 10)) \\\n",
    "                .filterBounds(aoi)\n",
    "\n",
    "# Define prefire and postfire images\n",
    "prefire = SE2Collection \\\n",
    "          .filterDate(case_studies[case_study_buttons.index].pre_date_start, case_studies[case_study_buttons.index].pre_date_end) \\\n",
    "          .map(maskS2clouds) \\\n",
    "          .median()\n",
    "\n",
    "postfire = SE2Collection \\\n",
    "           .filterDate(case_studies[case_study_buttons.index].post_date_start, case_studies[case_study_buttons.index].post_date_end) \\\n",
    "           .map(maskS2clouds) \\\n",
    "           .median()\n",
    "\n",
    "# Define the SimpleStyle dictionary for visualization\n",
    "rgb_vis = {'bands': ['TCI_R', 'TCI_G', 'TCI_B']}\n",
    "\n",
    "# Define visualization parameters\n",
    "fireRGB_vis = {'min': 0.0, 'max': 0.3, 'bands': ['B8', 'B4', 'B3']}"
   ]
  },
  {
   "cell_type": "markdown",
   "metadata": {},
   "source": [
    "Define Normalized Differenfe Water Index to mask water from MSI images"
   ]
  },
  {
   "cell_type": "code",
   "execution_count": 17,
   "metadata": {},
   "outputs": [],
   "source": [
    "# Define the NDWI calculation function\n",
    "def calculate_ndwi(image):\n",
    "    ndwi = image.normalizedDifference(['B3', 'B5']).rename('NDWI')\n",
    "    return ndwi.lt(case_studies[case_study_buttons.index].ndwiThreshold)\n",
    "\n",
    "\n",
    "# Calculate NDWI for pre-fire and post-fire images\n",
    "water_prefire = calculate_ndwi(LS8_prefire)\n",
    "water_postfire = calculate_ndwi(LS8_postfire)\n",
    "\n",
    "# Update water masks and images\n",
    "water_mask_prefire = prefire.updateMask(water_prefire)\n",
    "water_mask_postfire = postfire.updateMask(water_postfire)\n",
    "LS8_prefire = LS8_prefire.updateMask(water_prefire)\n",
    "LS8_postfire = LS8_postfire.updateMask(water_postfire)\n",
    "prefire = prefire.updateMask(water_prefire)\n",
    "postfire = postfire.updateMask(water_postfire)"
   ]
  },
  {
   "cell_type": "code",
   "execution_count": 18,
   "metadata": {},
   "outputs": [
    {
     "data": {
      "application/vnd.jupyter.widget-view+json": {
       "model_id": "5280d6e9e92843f6bc48cac3737db10c",
       "version_major": 2,
       "version_minor": 0
      },
      "text/plain": [
       "Map(center=[36.1254, 27.953600000000005], controls=(WidgetControl(options=['position', 'transparent_bg'], widg…"
      ]
     },
     "metadata": {},
     "output_type": "display_data"
    }
   ],
   "source": [
    "# Display the map\n",
    "Map"
   ]
  },
  {
   "cell_type": "code",
   "execution_count": 52,
   "metadata": {},
   "outputs": [],
   "source": [
    "# Add layers to the map\n",
    "Map.addLayer(postfire, rgb_vis, 'PostFireRGB')"
   ]
  },
  {
   "cell_type": "code",
   "execution_count": 49,
   "metadata": {},
   "outputs": [],
   "source": [
    "Map.addLayer(prefire, rgb_vis, 'PreFireRGB')"
   ]
  },
  {
   "cell_type": "code",
   "execution_count": 50,
   "metadata": {},
   "outputs": [],
   "source": [
    "Map.addLayer(postfire, fireRGB_vis, 'PostFireFRGB')"
   ]
  },
  {
   "cell_type": "code",
   "execution_count": null,
   "metadata": {},
   "outputs": [],
   "source": [
    "Map.addLayer(prefire, fireRGB_vis, 'PreFireFRGB')"
   ]
  },
  {
   "cell_type": "markdown",
   "metadata": {},
   "source": [
    "Compute Normalized Burn Ratio for pre-fire and post-fire images of Sentinel-2 and Landsat-8"
   ]
  },
  {
   "cell_type": "code",
   "execution_count": 19,
   "metadata": {},
   "outputs": [],
   "source": [
    "# Calculate NBR for pre-fire and post-fire images\n",
    "postNBR = postfire.normalizedDifference(['B8', 'B12']).select([0], ['NBR'])\n",
    "preNBR = prefire.normalizedDifference(['B8', 'B12']).select([0], ['NBR'])\n",
    "d_NBR = preNBR.subtract(postNBR)\n",
    "dNBR = d_NBR.multiply(1000)\n",
    "\n",
    "# Calculate NBR for LANDSAT-8 pre-fire and post-fire images\n",
    "LS8_postNBR = LS8_postfire.normalizedDifference(['B5', 'B7']).select([0], ['LS8 NBR'])\n",
    "LS8_preNBR = LS8_prefire.normalizedDifference(['B5', 'B7']).select([0], ['LS8 NBR'])\n",
    "LS8_d_NBR = LS8_preNBR.subtract(LS8_postNBR)\n",
    "LS8_dNBR = LS8_d_NBR.multiply(1000)\n",
    "\n",
    "# Define color palette for NBR\n",
    "nbr_vis = {'min': -0.2, 'max': 0.6, 'palette': ['red', 'orange', 'yellow', 'green', 'darkgreen']}"
   ]
  },
  {
   "cell_type": "code",
   "execution_count": 33,
   "metadata": {},
   "outputs": [],
   "source": [
    "# Add layers to the map\n",
    "Map.addLayer(postNBR, nbr_vis, 'PostFireNBR')"
   ]
  },
  {
   "cell_type": "code",
   "execution_count": 34,
   "metadata": {},
   "outputs": [],
   "source": [
    "Map.addLayer(preNBR, nbr_vis, 'PreFireNBR')"
   ]
  },
  {
   "cell_type": "markdown",
   "metadata": {},
   "source": [
    "Compute Burned Area Index for Sentinel-2 images"
   ]
  },
  {
   "cell_type": "code",
   "execution_count": 20,
   "metadata": {},
   "outputs": [],
   "source": [
    "# Burned Area Index for Sentinel-2 function\n",
    "def compute_bais2(image):\n",
    "    B4 = image.select('B4')  # Red\n",
    "    B6 = image.select('B6')  # Red Edge 2\n",
    "    B7 = image.select('B7')  # Red Edge 3\n",
    "    B8A = image.select('B8A')  # Red Edge 4\n",
    "    B12 = image.select('B12')  # Short Wave Infrared 2\n",
    "\n",
    "    term1 = (B6.multiply(B7).multiply(B8A)).sqrt().divide(B4.sqrt())\n",
    "    term2 = B12.subtract(B8A).divide((B12.add(B8A)).sqrt()).add(1)\n",
    "\n",
    "    BAIS2 = ee.Image(0).subtract((ee.Image(1).subtract(term1)).multiply(term2))\n",
    "\n",
    "    return BAIS2.rename('BAIS2')"
   ]
  },
  {
   "cell_type": "code",
   "execution_count": 21,
   "metadata": {},
   "outputs": [],
   "source": [
    "# Calculate BAIS2 for pre-fire and post-fire images\n",
    "postBAIS2 = compute_bais2(postfire)\n",
    "preBAIS2 = compute_bais2(prefire)\n",
    "d_BAIS2 = preBAIS2.subtract(postBAIS2)\n",
    "dBAIS2 = d_BAIS2.multiply(1000)\n",
    "\n",
    "# Define visualization parameters for dNBR and dBAIS2 layers\n",
    "grey_palette = ['white', 'black']\n",
    "# Define visualization parameters for dNBR and dBAIS2 layers\n",
    "grey_vis = {'min': -1000, 'max': 1000, 'palette': grey_palette}\n",
    "\n",
    "# Define SLD intervals for styling\n",
    "sld_intervals = '''\n",
    "<RasterSymbolizer>\n",
    "  <ColorMap type=\"intervals\" extended=\"false\">\n",
    "    <ColorMapEntry color=\"#ffffff\" quantity=\"-1000\" label=\"-500\"/>\n",
    "    <ColorMapEntry color=\"#7a8737\" quantity=\"-500\" label=\"-250\"/>\n",
    "    <ColorMapEntry color=\"#acbe4d\" quantity=\"-300\" label=\"-100\"/>\n",
    "    <ColorMapEntry color=\"#0ae042\" quantity=\"135\" label=\"100\"/>\n",
    "    <ColorMapEntry color=\"#fff70b\" quantity=\"270\" label=\"270\"/>\n",
    "    <ColorMapEntry color=\"#ffaf38\" quantity=\"440\" label=\"440\"/>\n",
    "    <ColorMapEntry color=\"#ff641b\" quantity=\"660\" label=\"660\"/>\n",
    "    <ColorMapEntry color=\"#a41fd6\" quantity=\"2000\" label=\"2000\"/>\n",
    "  </ColorMap>\n",
    "</RasterSymbolizer>\n",
    "'''"
   ]
  },
  {
   "cell_type": "code",
   "execution_count": 30,
   "metadata": {},
   "outputs": [],
   "source": [
    "# Add layers to the map\n",
    "Map.addLayer(dNBR, grey_vis, 'dNBR greyscale')"
   ]
  },
  {
   "cell_type": "code",
   "execution_count": 31,
   "metadata": {},
   "outputs": [],
   "source": [
    "Map.addLayer(dBAIS2, grey_vis, 'dBAIS2 greyscale')"
   ]
  },
  {
   "cell_type": "code",
   "execution_count": 22,
   "metadata": {},
   "outputs": [],
   "source": [
    "# Apply SLD intervals to the layers and add to the map\n",
    "Map.addLayer(dBAIS2.sldStyle(sld_intervals), {}, 'SE2 dBAIS2 classified')"
   ]
  },
  {
   "cell_type": "code",
   "execution_count": 33,
   "metadata": {},
   "outputs": [],
   "source": [
    "Map.addLayer(LS8_dNBR.sldStyle(sld_intervals), {}, 'LS8 dNBR classified')"
   ]
  },
  {
   "cell_type": "code",
   "execution_count": 23,
   "metadata": {},
   "outputs": [],
   "source": [
    "\n",
    "Map.addLayer(dNBR.sldStyle(sld_intervals), {}, 'SE2 dNBR classified')"
   ]
  },
  {
   "cell_type": "code",
   "execution_count": 44,
   "metadata": {},
   "outputs": [
    {
     "ename": "KeyboardInterrupt",
     "evalue": "",
     "output_type": "error",
     "traceback": [
      "\u001b[1;31m---------------------------------------------------------------------------\u001b[0m",
      "\u001b[1;31mKeyboardInterrupt\u001b[0m                         Traceback (most recent call last)",
      "Cell \u001b[1;32mIn[44], line 19\u001b[0m\n\u001b[0;32m     11\u001b[0m burned_stats \u001b[39m=\u001b[39m burned_pixel_area\u001b[39m.\u001b[39mreduceRegion(\n\u001b[0;32m     12\u001b[0m     reducer\u001b[39m=\u001b[39mee\u001b[39m.\u001b[39mReducer\u001b[39m.\u001b[39msum(),  \u001b[39m# Sum all pixels with area information\u001b[39;00m\n\u001b[0;32m     13\u001b[0m     geometry\u001b[39m=\u001b[39maoi,\n\u001b[0;32m     14\u001b[0m     scale\u001b[39m=\u001b[39m\u001b[39m30\u001b[39m,\n\u001b[0;32m     15\u001b[0m     maxPixels\u001b[39m=\u001b[39m\u001b[39m1e9\u001b[39m\n\u001b[0;32m     16\u001b[0m )\n\u001b[0;32m     18\u001b[0m \u001b[39m# Print burned_stats\u001b[39;00m\n\u001b[1;32m---> 19\u001b[0m \u001b[39mprint\u001b[39m(burned_stats\u001b[39m.\u001b[39;49mgetNumber(\u001b[39m'\u001b[39;49m\u001b[39mNBR\u001b[39;49m\u001b[39m'\u001b[39;49m)\u001b[39m.\u001b[39;49mgetInfo(), \u001b[39m'\u001b[39m\u001b[39mm^2\u001b[39m\u001b[39m'\u001b[39m)\n\u001b[0;32m     21\u001b[0m \u001b[39m# Calculate burned area in hectares and acres\u001b[39;00m\n\u001b[0;32m     22\u001b[0m burned_area_ha \u001b[39m=\u001b[39m burned_stats\u001b[39m.\u001b[39mgetNumber(\u001b[39m'\u001b[39m\u001b[39mNBR\u001b[39m\u001b[39m'\u001b[39m)\u001b[39m.\u001b[39mdivide(\u001b[39m10000\u001b[39m)\u001b[39m.\u001b[39mround()\n",
      "File \u001b[1;32mc:\\Users\\Utente\\mambaforge\\envs\\eo\\lib\\site-packages\\ee\\computedobject.py:96\u001b[0m, in \u001b[0;36mComputedObject.getInfo\u001b[1;34m(self)\u001b[0m\n\u001b[0;32m     90\u001b[0m \u001b[39mdef\u001b[39;00m \u001b[39mgetInfo\u001b[39m(\u001b[39mself\u001b[39m):\n\u001b[0;32m     91\u001b[0m   \u001b[39m\"\"\"Fetch and return information about this object.\u001b[39;00m\n\u001b[0;32m     92\u001b[0m \n\u001b[0;32m     93\u001b[0m \u001b[39m  Returns:\u001b[39;00m\n\u001b[0;32m     94\u001b[0m \u001b[39m    The object can evaluate to anything.\u001b[39;00m\n\u001b[0;32m     95\u001b[0m \u001b[39m  \"\"\"\u001b[39;00m\n\u001b[1;32m---> 96\u001b[0m   \u001b[39mreturn\u001b[39;00m data\u001b[39m.\u001b[39;49mcomputeValue(\u001b[39mself\u001b[39;49m)\n",
      "File \u001b[1;32mc:\\Users\\Utente\\mambaforge\\envs\\eo\\lib\\site-packages\\ee\\data.py:898\u001b[0m, in \u001b[0;36mcomputeValue\u001b[1;34m(obj)\u001b[0m\n\u001b[0;32m    895\u001b[0m body \u001b[39m=\u001b[39m {\u001b[39m'\u001b[39m\u001b[39mexpression\u001b[39m\u001b[39m'\u001b[39m: serializer\u001b[39m.\u001b[39mencode(obj, for_cloud_api\u001b[39m=\u001b[39m\u001b[39mTrue\u001b[39;00m)}\n\u001b[0;32m    896\u001b[0m _maybe_populate_workload_tag(body)\n\u001b[1;32m--> 898\u001b[0m \u001b[39mreturn\u001b[39;00m _execute_cloud_call(\n\u001b[0;32m    899\u001b[0m     _get_cloud_api_resource()\u001b[39m.\u001b[39;49mprojects()\u001b[39m.\u001b[39;49mvalue()\u001b[39m.\u001b[39;49mcompute(\n\u001b[0;32m    900\u001b[0m         body\u001b[39m=\u001b[39;49mbody,\n\u001b[0;32m    901\u001b[0m         project\u001b[39m=\u001b[39;49m_get_projects_path(),\n\u001b[0;32m    902\u001b[0m         prettyPrint\u001b[39m=\u001b[39;49m\u001b[39mFalse\u001b[39;49;00m))[\u001b[39m'\u001b[39m\u001b[39mresult\u001b[39m\u001b[39m'\u001b[39m]\n",
      "File \u001b[1;32mc:\\Users\\Utente\\mambaforge\\envs\\eo\\lib\\site-packages\\ee\\data.py:329\u001b[0m, in \u001b[0;36m_execute_cloud_call\u001b[1;34m(call, num_retries)\u001b[0m\n\u001b[0;32m    315\u001b[0m \u001b[39m\"\"\"Executes a Cloud API call and translates errors to EEExceptions.\u001b[39;00m\n\u001b[0;32m    316\u001b[0m \n\u001b[0;32m    317\u001b[0m \u001b[39mArgs:\u001b[39;00m\n\u001b[1;32m   (...)\u001b[0m\n\u001b[0;32m    326\u001b[0m \u001b[39m  EEException if the call fails.\u001b[39;00m\n\u001b[0;32m    327\u001b[0m \u001b[39m\"\"\"\u001b[39;00m\n\u001b[0;32m    328\u001b[0m \u001b[39mtry\u001b[39;00m:\n\u001b[1;32m--> 329\u001b[0m   \u001b[39mreturn\u001b[39;00m call\u001b[39m.\u001b[39;49mexecute(num_retries\u001b[39m=\u001b[39;49mnum_retries)\n\u001b[0;32m    330\u001b[0m \u001b[39mexcept\u001b[39;00m googleapiclient\u001b[39m.\u001b[39merrors\u001b[39m.\u001b[39mHttpError \u001b[39mas\u001b[39;00m e:\n\u001b[0;32m    331\u001b[0m   \u001b[39mraise\u001b[39;00m _translate_cloud_exception(e)\n",
      "File \u001b[1;32mc:\\Users\\Utente\\mambaforge\\envs\\eo\\lib\\site-packages\\googleapiclient\\_helpers.py:130\u001b[0m, in \u001b[0;36mpositional.<locals>.positional_decorator.<locals>.positional_wrapper\u001b[1;34m(*args, **kwargs)\u001b[0m\n\u001b[0;32m    128\u001b[0m     \u001b[39melif\u001b[39;00m positional_parameters_enforcement \u001b[39m==\u001b[39m POSITIONAL_WARNING:\n\u001b[0;32m    129\u001b[0m         logger\u001b[39m.\u001b[39mwarning(message)\n\u001b[1;32m--> 130\u001b[0m \u001b[39mreturn\u001b[39;00m wrapped(\u001b[39m*\u001b[39margs, \u001b[39m*\u001b[39m\u001b[39m*\u001b[39mkwargs)\n",
      "File \u001b[1;32mc:\\Users\\Utente\\mambaforge\\envs\\eo\\lib\\site-packages\\googleapiclient\\http.py:923\u001b[0m, in \u001b[0;36mHttpRequest.execute\u001b[1;34m(self, http, num_retries)\u001b[0m\n\u001b[0;32m    920\u001b[0m     \u001b[39mself\u001b[39m\u001b[39m.\u001b[39mheaders[\u001b[39m\"\u001b[39m\u001b[39mcontent-length\u001b[39m\u001b[39m\"\u001b[39m] \u001b[39m=\u001b[39m \u001b[39mstr\u001b[39m(\u001b[39mlen\u001b[39m(\u001b[39mself\u001b[39m\u001b[39m.\u001b[39mbody))\n\u001b[0;32m    922\u001b[0m \u001b[39m# Handle retries for server-side errors.\u001b[39;00m\n\u001b[1;32m--> 923\u001b[0m resp, content \u001b[39m=\u001b[39m _retry_request(\n\u001b[0;32m    924\u001b[0m     http,\n\u001b[0;32m    925\u001b[0m     num_retries,\n\u001b[0;32m    926\u001b[0m     \u001b[39m\"\u001b[39;49m\u001b[39mrequest\u001b[39;49m\u001b[39m\"\u001b[39;49m,\n\u001b[0;32m    927\u001b[0m     \u001b[39mself\u001b[39;49m\u001b[39m.\u001b[39;49m_sleep,\n\u001b[0;32m    928\u001b[0m     \u001b[39mself\u001b[39;49m\u001b[39m.\u001b[39;49m_rand,\n\u001b[0;32m    929\u001b[0m     \u001b[39mstr\u001b[39;49m(\u001b[39mself\u001b[39;49m\u001b[39m.\u001b[39;49muri),\n\u001b[0;32m    930\u001b[0m     method\u001b[39m=\u001b[39;49m\u001b[39mstr\u001b[39;49m(\u001b[39mself\u001b[39;49m\u001b[39m.\u001b[39;49mmethod),\n\u001b[0;32m    931\u001b[0m     body\u001b[39m=\u001b[39;49m\u001b[39mself\u001b[39;49m\u001b[39m.\u001b[39;49mbody,\n\u001b[0;32m    932\u001b[0m     headers\u001b[39m=\u001b[39;49m\u001b[39mself\u001b[39;49m\u001b[39m.\u001b[39;49mheaders,\n\u001b[0;32m    933\u001b[0m )\n\u001b[0;32m    935\u001b[0m \u001b[39mfor\u001b[39;00m callback \u001b[39min\u001b[39;00m \u001b[39mself\u001b[39m\u001b[39m.\u001b[39mresponse_callbacks:\n\u001b[0;32m    936\u001b[0m     callback(resp)\n",
      "File \u001b[1;32mc:\\Users\\Utente\\mambaforge\\envs\\eo\\lib\\site-packages\\googleapiclient\\http.py:191\u001b[0m, in \u001b[0;36m_retry_request\u001b[1;34m(http, num_retries, req_type, sleep, rand, uri, method, *args, **kwargs)\u001b[0m\n\u001b[0;32m    189\u001b[0m \u001b[39mtry\u001b[39;00m:\n\u001b[0;32m    190\u001b[0m     exception \u001b[39m=\u001b[39m \u001b[39mNone\u001b[39;00m\n\u001b[1;32m--> 191\u001b[0m     resp, content \u001b[39m=\u001b[39m http\u001b[39m.\u001b[39mrequest(uri, method, \u001b[39m*\u001b[39margs, \u001b[39m*\u001b[39m\u001b[39m*\u001b[39mkwargs)\n\u001b[0;32m    192\u001b[0m \u001b[39m# Retry on SSL errors and socket timeout errors.\u001b[39;00m\n\u001b[0;32m    193\u001b[0m \u001b[39mexcept\u001b[39;00m _ssl_SSLError \u001b[39mas\u001b[39;00m ssl_error:\n",
      "File \u001b[1;32mc:\\Users\\Utente\\mambaforge\\envs\\eo\\lib\\site-packages\\google_auth_httplib2.py:218\u001b[0m, in \u001b[0;36mAuthorizedHttp.request\u001b[1;34m(self, uri, method, body, headers, redirections, connection_type, **kwargs)\u001b[0m\n\u001b[0;32m    215\u001b[0m     body_stream_position \u001b[39m=\u001b[39m body\u001b[39m.\u001b[39mtell()\n\u001b[0;32m    217\u001b[0m \u001b[39m# Make the request.\u001b[39;00m\n\u001b[1;32m--> 218\u001b[0m response, content \u001b[39m=\u001b[39m \u001b[39mself\u001b[39m\u001b[39m.\u001b[39mhttp\u001b[39m.\u001b[39mrequest(\n\u001b[0;32m    219\u001b[0m     uri,\n\u001b[0;32m    220\u001b[0m     method,\n\u001b[0;32m    221\u001b[0m     body\u001b[39m=\u001b[39mbody,\n\u001b[0;32m    222\u001b[0m     headers\u001b[39m=\u001b[39mrequest_headers,\n\u001b[0;32m    223\u001b[0m     redirections\u001b[39m=\u001b[39mredirections,\n\u001b[0;32m    224\u001b[0m     connection_type\u001b[39m=\u001b[39mconnection_type,\n\u001b[0;32m    225\u001b[0m     \u001b[39m*\u001b[39m\u001b[39m*\u001b[39mkwargs\n\u001b[0;32m    226\u001b[0m )\n\u001b[0;32m    228\u001b[0m \u001b[39m# If the response indicated that the credentials needed to be\u001b[39;00m\n\u001b[0;32m    229\u001b[0m \u001b[39m# refreshed, then refresh the credentials and re-attempt the\u001b[39;00m\n\u001b[0;32m    230\u001b[0m \u001b[39m# request.\u001b[39;00m\n\u001b[0;32m    231\u001b[0m \u001b[39m# A stored token may expire between the time it is retrieved and\u001b[39;00m\n\u001b[0;32m    232\u001b[0m \u001b[39m# the time the request is made, so we may need to try twice.\u001b[39;00m\n\u001b[0;32m    233\u001b[0m \u001b[39mif\u001b[39;00m (\n\u001b[0;32m    234\u001b[0m     response\u001b[39m.\u001b[39mstatus \u001b[39min\u001b[39;00m \u001b[39mself\u001b[39m\u001b[39m.\u001b[39m_refresh_status_codes\n\u001b[0;32m    235\u001b[0m     \u001b[39mand\u001b[39;00m _credential_refresh_attempt \u001b[39m<\u001b[39m \u001b[39mself\u001b[39m\u001b[39m.\u001b[39m_max_refresh_attempts\n\u001b[0;32m    236\u001b[0m ):\n",
      "File \u001b[1;32mc:\\Users\\Utente\\mambaforge\\envs\\eo\\lib\\site-packages\\ee\\_cloud_api_utils.py:62\u001b[0m, in \u001b[0;36m_Http.request\u001b[1;34m(***failed resolving arguments***)\u001b[0m\n\u001b[0;32m     60\u001b[0m \u001b[39mwith\u001b[39;00m requests\u001b[39m.\u001b[39mSession() \u001b[39mas\u001b[39;00m session:\n\u001b[0;32m     61\u001b[0m   session\u001b[39m.\u001b[39mmax_redirects \u001b[39m=\u001b[39m redirections\n\u001b[1;32m---> 62\u001b[0m   response \u001b[39m=\u001b[39m session\u001b[39m.\u001b[39;49mrequest(\n\u001b[0;32m     63\u001b[0m       method, uri, data\u001b[39m=\u001b[39;49mbody, headers\u001b[39m=\u001b[39;49mheaders, timeout\u001b[39m=\u001b[39;49m\u001b[39mself\u001b[39;49m\u001b[39m.\u001b[39;49m_timeout)\n\u001b[0;32m     64\u001b[0m   headers \u001b[39m=\u001b[39m \u001b[39mdict\u001b[39m(response\u001b[39m.\u001b[39mheaders)\n\u001b[0;32m     65\u001b[0m   headers[\u001b[39m'\u001b[39m\u001b[39mstatus\u001b[39m\u001b[39m'\u001b[39m] \u001b[39m=\u001b[39m response\u001b[39m.\u001b[39mstatus_code\n",
      "File \u001b[1;32mc:\\Users\\Utente\\mambaforge\\envs\\eo\\lib\\site-packages\\requests\\sessions.py:587\u001b[0m, in \u001b[0;36mSession.request\u001b[1;34m(self, method, url, params, data, headers, cookies, files, auth, timeout, allow_redirects, proxies, hooks, stream, verify, cert, json)\u001b[0m\n\u001b[0;32m    582\u001b[0m send_kwargs \u001b[39m=\u001b[39m {\n\u001b[0;32m    583\u001b[0m     \u001b[39m\"\u001b[39m\u001b[39mtimeout\u001b[39m\u001b[39m\"\u001b[39m: timeout,\n\u001b[0;32m    584\u001b[0m     \u001b[39m\"\u001b[39m\u001b[39mallow_redirects\u001b[39m\u001b[39m\"\u001b[39m: allow_redirects,\n\u001b[0;32m    585\u001b[0m }\n\u001b[0;32m    586\u001b[0m send_kwargs\u001b[39m.\u001b[39mupdate(settings)\n\u001b[1;32m--> 587\u001b[0m resp \u001b[39m=\u001b[39m \u001b[39mself\u001b[39m\u001b[39m.\u001b[39msend(prep, \u001b[39m*\u001b[39m\u001b[39m*\u001b[39msend_kwargs)\n\u001b[0;32m    589\u001b[0m \u001b[39mreturn\u001b[39;00m resp\n",
      "File \u001b[1;32mc:\\Users\\Utente\\mambaforge\\envs\\eo\\lib\\site-packages\\requests\\sessions.py:701\u001b[0m, in \u001b[0;36mSession.send\u001b[1;34m(self, request, **kwargs)\u001b[0m\n\u001b[0;32m    698\u001b[0m start \u001b[39m=\u001b[39m preferred_clock()\n\u001b[0;32m    700\u001b[0m \u001b[39m# Send the request\u001b[39;00m\n\u001b[1;32m--> 701\u001b[0m r \u001b[39m=\u001b[39m adapter\u001b[39m.\u001b[39msend(request, \u001b[39m*\u001b[39m\u001b[39m*\u001b[39mkwargs)\n\u001b[0;32m    703\u001b[0m \u001b[39m# Total elapsed time of the request (approximately)\u001b[39;00m\n\u001b[0;32m    704\u001b[0m elapsed \u001b[39m=\u001b[39m preferred_clock() \u001b[39m-\u001b[39m start\n",
      "File \u001b[1;32mc:\\Users\\Utente\\mambaforge\\envs\\eo\\lib\\site-packages\\requests\\adapters.py:489\u001b[0m, in \u001b[0;36mHTTPAdapter.send\u001b[1;34m(self, request, stream, timeout, verify, cert, proxies)\u001b[0m\n\u001b[0;32m    487\u001b[0m \u001b[39mtry\u001b[39;00m:\n\u001b[0;32m    488\u001b[0m     \u001b[39mif\u001b[39;00m \u001b[39mnot\u001b[39;00m chunked:\n\u001b[1;32m--> 489\u001b[0m         resp \u001b[39m=\u001b[39m conn\u001b[39m.\u001b[39;49murlopen(\n\u001b[0;32m    490\u001b[0m             method\u001b[39m=\u001b[39;49mrequest\u001b[39m.\u001b[39;49mmethod,\n\u001b[0;32m    491\u001b[0m             url\u001b[39m=\u001b[39;49murl,\n\u001b[0;32m    492\u001b[0m             body\u001b[39m=\u001b[39;49mrequest\u001b[39m.\u001b[39;49mbody,\n\u001b[0;32m    493\u001b[0m             headers\u001b[39m=\u001b[39;49mrequest\u001b[39m.\u001b[39;49mheaders,\n\u001b[0;32m    494\u001b[0m             redirect\u001b[39m=\u001b[39;49m\u001b[39mFalse\u001b[39;49;00m,\n\u001b[0;32m    495\u001b[0m             assert_same_host\u001b[39m=\u001b[39;49m\u001b[39mFalse\u001b[39;49;00m,\n\u001b[0;32m    496\u001b[0m             preload_content\u001b[39m=\u001b[39;49m\u001b[39mFalse\u001b[39;49;00m,\n\u001b[0;32m    497\u001b[0m             decode_content\u001b[39m=\u001b[39;49m\u001b[39mFalse\u001b[39;49;00m,\n\u001b[0;32m    498\u001b[0m             retries\u001b[39m=\u001b[39;49m\u001b[39mself\u001b[39;49m\u001b[39m.\u001b[39;49mmax_retries,\n\u001b[0;32m    499\u001b[0m             timeout\u001b[39m=\u001b[39;49mtimeout,\n\u001b[0;32m    500\u001b[0m         )\n\u001b[0;32m    502\u001b[0m     \u001b[39m# Send the request.\u001b[39;00m\n\u001b[0;32m    503\u001b[0m     \u001b[39melse\u001b[39;00m:\n\u001b[0;32m    504\u001b[0m         \u001b[39mif\u001b[39;00m \u001b[39mhasattr\u001b[39m(conn, \u001b[39m\"\u001b[39m\u001b[39mproxy_pool\u001b[39m\u001b[39m\"\u001b[39m):\n",
      "File \u001b[1;32mc:\\Users\\Utente\\mambaforge\\envs\\eo\\lib\\site-packages\\urllib3\\connectionpool.py:703\u001b[0m, in \u001b[0;36mHTTPConnectionPool.urlopen\u001b[1;34m(self, method, url, body, headers, retries, redirect, assert_same_host, timeout, pool_timeout, release_conn, chunked, body_pos, **response_kw)\u001b[0m\n\u001b[0;32m    700\u001b[0m     \u001b[39mself\u001b[39m\u001b[39m.\u001b[39m_prepare_proxy(conn)\n\u001b[0;32m    702\u001b[0m \u001b[39m# Make the request on the httplib connection object.\u001b[39;00m\n\u001b[1;32m--> 703\u001b[0m httplib_response \u001b[39m=\u001b[39m \u001b[39mself\u001b[39;49m\u001b[39m.\u001b[39;49m_make_request(\n\u001b[0;32m    704\u001b[0m     conn,\n\u001b[0;32m    705\u001b[0m     method,\n\u001b[0;32m    706\u001b[0m     url,\n\u001b[0;32m    707\u001b[0m     timeout\u001b[39m=\u001b[39;49mtimeout_obj,\n\u001b[0;32m    708\u001b[0m     body\u001b[39m=\u001b[39;49mbody,\n\u001b[0;32m    709\u001b[0m     headers\u001b[39m=\u001b[39;49mheaders,\n\u001b[0;32m    710\u001b[0m     chunked\u001b[39m=\u001b[39;49mchunked,\n\u001b[0;32m    711\u001b[0m )\n\u001b[0;32m    713\u001b[0m \u001b[39m# If we're going to release the connection in ``finally:``, then\u001b[39;00m\n\u001b[0;32m    714\u001b[0m \u001b[39m# the response doesn't need to know about the connection. Otherwise\u001b[39;00m\n\u001b[0;32m    715\u001b[0m \u001b[39m# it will also try to release it and we'll have a double-release\u001b[39;00m\n\u001b[0;32m    716\u001b[0m \u001b[39m# mess.\u001b[39;00m\n\u001b[0;32m    717\u001b[0m response_conn \u001b[39m=\u001b[39m conn \u001b[39mif\u001b[39;00m \u001b[39mnot\u001b[39;00m release_conn \u001b[39melse\u001b[39;00m \u001b[39mNone\u001b[39;00m\n",
      "File \u001b[1;32mc:\\Users\\Utente\\mambaforge\\envs\\eo\\lib\\site-packages\\urllib3\\connectionpool.py:449\u001b[0m, in \u001b[0;36mHTTPConnectionPool._make_request\u001b[1;34m(self, conn, method, url, timeout, chunked, **httplib_request_kw)\u001b[0m\n\u001b[0;32m    444\u001b[0m             httplib_response \u001b[39m=\u001b[39m conn\u001b[39m.\u001b[39mgetresponse()\n\u001b[0;32m    445\u001b[0m         \u001b[39mexcept\u001b[39;00m \u001b[39mBaseException\u001b[39;00m \u001b[39mas\u001b[39;00m e:\n\u001b[0;32m    446\u001b[0m             \u001b[39m# Remove the TypeError from the exception chain in\u001b[39;00m\n\u001b[0;32m    447\u001b[0m             \u001b[39m# Python 3 (including for exceptions like SystemExit).\u001b[39;00m\n\u001b[0;32m    448\u001b[0m             \u001b[39m# Otherwise it looks like a bug in the code.\u001b[39;00m\n\u001b[1;32m--> 449\u001b[0m             six\u001b[39m.\u001b[39;49mraise_from(e, \u001b[39mNone\u001b[39;49;00m)\n\u001b[0;32m    450\u001b[0m \u001b[39mexcept\u001b[39;00m (SocketTimeout, BaseSSLError, SocketError) \u001b[39mas\u001b[39;00m e:\n\u001b[0;32m    451\u001b[0m     \u001b[39mself\u001b[39m\u001b[39m.\u001b[39m_raise_timeout(err\u001b[39m=\u001b[39me, url\u001b[39m=\u001b[39murl, timeout_value\u001b[39m=\u001b[39mread_timeout)\n",
      "File \u001b[1;32m<string>:3\u001b[0m, in \u001b[0;36mraise_from\u001b[1;34m(value, from_value)\u001b[0m\n",
      "File \u001b[1;32mc:\\Users\\Utente\\mambaforge\\envs\\eo\\lib\\site-packages\\urllib3\\connectionpool.py:444\u001b[0m, in \u001b[0;36mHTTPConnectionPool._make_request\u001b[1;34m(self, conn, method, url, timeout, chunked, **httplib_request_kw)\u001b[0m\n\u001b[0;32m    441\u001b[0m \u001b[39mexcept\u001b[39;00m \u001b[39mTypeError\u001b[39;00m:\n\u001b[0;32m    442\u001b[0m     \u001b[39m# Python 3\u001b[39;00m\n\u001b[0;32m    443\u001b[0m     \u001b[39mtry\u001b[39;00m:\n\u001b[1;32m--> 444\u001b[0m         httplib_response \u001b[39m=\u001b[39m conn\u001b[39m.\u001b[39;49mgetresponse()\n\u001b[0;32m    445\u001b[0m     \u001b[39mexcept\u001b[39;00m \u001b[39mBaseException\u001b[39;00m \u001b[39mas\u001b[39;00m e:\n\u001b[0;32m    446\u001b[0m         \u001b[39m# Remove the TypeError from the exception chain in\u001b[39;00m\n\u001b[0;32m    447\u001b[0m         \u001b[39m# Python 3 (including for exceptions like SystemExit).\u001b[39;00m\n\u001b[0;32m    448\u001b[0m         \u001b[39m# Otherwise it looks like a bug in the code.\u001b[39;00m\n\u001b[0;32m    449\u001b[0m         six\u001b[39m.\u001b[39mraise_from(e, \u001b[39mNone\u001b[39;00m)\n",
      "File \u001b[1;32mc:\\Users\\Utente\\mambaforge\\envs\\eo\\lib\\http\\client.py:1374\u001b[0m, in \u001b[0;36mHTTPConnection.getresponse\u001b[1;34m(self)\u001b[0m\n\u001b[0;32m   1372\u001b[0m \u001b[39mtry\u001b[39;00m:\n\u001b[0;32m   1373\u001b[0m     \u001b[39mtry\u001b[39;00m:\n\u001b[1;32m-> 1374\u001b[0m         response\u001b[39m.\u001b[39;49mbegin()\n\u001b[0;32m   1375\u001b[0m     \u001b[39mexcept\u001b[39;00m \u001b[39mConnectionError\u001b[39;00m:\n\u001b[0;32m   1376\u001b[0m         \u001b[39mself\u001b[39m\u001b[39m.\u001b[39mclose()\n",
      "File \u001b[1;32mc:\\Users\\Utente\\mambaforge\\envs\\eo\\lib\\http\\client.py:318\u001b[0m, in \u001b[0;36mHTTPResponse.begin\u001b[1;34m(self)\u001b[0m\n\u001b[0;32m    316\u001b[0m \u001b[39m# read until we get a non-100 response\u001b[39;00m\n\u001b[0;32m    317\u001b[0m \u001b[39mwhile\u001b[39;00m \u001b[39mTrue\u001b[39;00m:\n\u001b[1;32m--> 318\u001b[0m     version, status, reason \u001b[39m=\u001b[39m \u001b[39mself\u001b[39;49m\u001b[39m.\u001b[39;49m_read_status()\n\u001b[0;32m    319\u001b[0m     \u001b[39mif\u001b[39;00m status \u001b[39m!=\u001b[39m CONTINUE:\n\u001b[0;32m    320\u001b[0m         \u001b[39mbreak\u001b[39;00m\n",
      "File \u001b[1;32mc:\\Users\\Utente\\mambaforge\\envs\\eo\\lib\\http\\client.py:279\u001b[0m, in \u001b[0;36mHTTPResponse._read_status\u001b[1;34m(self)\u001b[0m\n\u001b[0;32m    278\u001b[0m \u001b[39mdef\u001b[39;00m \u001b[39m_read_status\u001b[39m(\u001b[39mself\u001b[39m):\n\u001b[1;32m--> 279\u001b[0m     line \u001b[39m=\u001b[39m \u001b[39mstr\u001b[39m(\u001b[39mself\u001b[39;49m\u001b[39m.\u001b[39;49mfp\u001b[39m.\u001b[39;49mreadline(_MAXLINE \u001b[39m+\u001b[39;49m \u001b[39m1\u001b[39;49m), \u001b[39m\"\u001b[39m\u001b[39miso-8859-1\u001b[39m\u001b[39m\"\u001b[39m)\n\u001b[0;32m    280\u001b[0m     \u001b[39mif\u001b[39;00m \u001b[39mlen\u001b[39m(line) \u001b[39m>\u001b[39m _MAXLINE:\n\u001b[0;32m    281\u001b[0m         \u001b[39mraise\u001b[39;00m LineTooLong(\u001b[39m\"\u001b[39m\u001b[39mstatus line\u001b[39m\u001b[39m\"\u001b[39m)\n",
      "File \u001b[1;32mc:\\Users\\Utente\\mambaforge\\envs\\eo\\lib\\socket.py:705\u001b[0m, in \u001b[0;36mSocketIO.readinto\u001b[1;34m(self, b)\u001b[0m\n\u001b[0;32m    703\u001b[0m \u001b[39mwhile\u001b[39;00m \u001b[39mTrue\u001b[39;00m:\n\u001b[0;32m    704\u001b[0m     \u001b[39mtry\u001b[39;00m:\n\u001b[1;32m--> 705\u001b[0m         \u001b[39mreturn\u001b[39;00m \u001b[39mself\u001b[39;49m\u001b[39m.\u001b[39;49m_sock\u001b[39m.\u001b[39;49mrecv_into(b)\n\u001b[0;32m    706\u001b[0m     \u001b[39mexcept\u001b[39;00m timeout:\n\u001b[0;32m    707\u001b[0m         \u001b[39mself\u001b[39m\u001b[39m.\u001b[39m_timeout_occurred \u001b[39m=\u001b[39m \u001b[39mTrue\u001b[39;00m\n",
      "File \u001b[1;32mc:\\Users\\Utente\\mambaforge\\envs\\eo\\lib\\ssl.py:1274\u001b[0m, in \u001b[0;36mSSLSocket.recv_into\u001b[1;34m(self, buffer, nbytes, flags)\u001b[0m\n\u001b[0;32m   1270\u001b[0m     \u001b[39mif\u001b[39;00m flags \u001b[39m!=\u001b[39m \u001b[39m0\u001b[39m:\n\u001b[0;32m   1271\u001b[0m         \u001b[39mraise\u001b[39;00m \u001b[39mValueError\u001b[39;00m(\n\u001b[0;32m   1272\u001b[0m           \u001b[39m\"\u001b[39m\u001b[39mnon-zero flags not allowed in calls to recv_into() on \u001b[39m\u001b[39m%s\u001b[39;00m\u001b[39m\"\u001b[39m \u001b[39m%\u001b[39m\n\u001b[0;32m   1273\u001b[0m           \u001b[39mself\u001b[39m\u001b[39m.\u001b[39m\u001b[39m__class__\u001b[39m)\n\u001b[1;32m-> 1274\u001b[0m     \u001b[39mreturn\u001b[39;00m \u001b[39mself\u001b[39;49m\u001b[39m.\u001b[39;49mread(nbytes, buffer)\n\u001b[0;32m   1275\u001b[0m \u001b[39melse\u001b[39;00m:\n\u001b[0;32m   1276\u001b[0m     \u001b[39mreturn\u001b[39;00m \u001b[39msuper\u001b[39m()\u001b[39m.\u001b[39mrecv_into(buffer, nbytes, flags)\n",
      "File \u001b[1;32mc:\\Users\\Utente\\mambaforge\\envs\\eo\\lib\\ssl.py:1130\u001b[0m, in \u001b[0;36mSSLSocket.read\u001b[1;34m(self, len, buffer)\u001b[0m\n\u001b[0;32m   1128\u001b[0m \u001b[39mtry\u001b[39;00m:\n\u001b[0;32m   1129\u001b[0m     \u001b[39mif\u001b[39;00m buffer \u001b[39mis\u001b[39;00m \u001b[39mnot\u001b[39;00m \u001b[39mNone\u001b[39;00m:\n\u001b[1;32m-> 1130\u001b[0m         \u001b[39mreturn\u001b[39;00m \u001b[39mself\u001b[39;49m\u001b[39m.\u001b[39;49m_sslobj\u001b[39m.\u001b[39;49mread(\u001b[39mlen\u001b[39;49m, buffer)\n\u001b[0;32m   1131\u001b[0m     \u001b[39melse\u001b[39;00m:\n\u001b[0;32m   1132\u001b[0m         \u001b[39mreturn\u001b[39;00m \u001b[39mself\u001b[39m\u001b[39m.\u001b[39m_sslobj\u001b[39m.\u001b[39mread(\u001b[39mlen\u001b[39m)\n",
      "\u001b[1;31mKeyboardInterrupt\u001b[0m: "
     ]
    }
   ],
   "source": [
    "# Clip dNBR to the wildfire aoi geometry\n",
    "clipped_dNBR = dNBR.clip(case_studies[case_study_buttons.index].geometry)\n",
    "\n",
    "# Extract only burned pixels\n",
    "burned_area = clipped_dNBR.gte(100)\n",
    "\n",
    "# Get pixel area of the affected burned layer\n",
    "burned_pixel_area = burned_area.multiply(ee.Image.pixelArea())  # Calculate the area of each pixel\n",
    "\n",
    "# Sum pixels of affected burned layer\n",
    "burned_stats = burned_pixel_area.reduceRegion(\n",
    "    reducer=ee.Reducer.sum(),  # Sum all pixels with area information\n",
    "    geometry=aoi,\n",
    "    scale=30,\n",
    "    maxPixels=1e9\n",
    ")\n",
    "\n",
    "# Print burned_stats\n",
    "print(burned_stats.getNumber('NBR').getInfo(), 'm^2')\n",
    "\n",
    "# Calculate burned area in hectares and acres\n",
    "burned_area_ha = burned_stats.getNumber('NBR').divide(10000).round()\n",
    "burned_area_ac = burned_stats.getNumber('NBR').divide(4046.86).round()\n",
    "\n",
    "# Print burned area in hectares and acres\n",
    "print('Burned area:', burned_area_ha.getInfo(),'hectares', '(',burned_area_ac.getInfo(),'acres)')"
   ]
  }
 ],
 "metadata": {
  "kernelspec": {
   "display_name": "eo",
   "language": "python",
   "name": "python3"
  },
  "language_info": {
   "codemirror_mode": {
    "name": "ipython",
    "version": 3
   },
   "file_extension": ".py",
   "mimetype": "text/x-python",
   "name": "python",
   "nbconvert_exporter": "python",
   "pygments_lexer": "ipython3",
   "version": "3.10.10"
  },
  "orig_nbformat": 4
 },
 "nbformat": 4,
 "nbformat_minor": 2
}
