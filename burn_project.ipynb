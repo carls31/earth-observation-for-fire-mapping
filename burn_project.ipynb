{
 "cells": [
  {
   "cell_type": "code",
   "execution_count": 1,
   "metadata": {},
   "outputs": [],
   "source": [
    "import geemap\n",
    "import ee"
   ]
  },
  {
   "cell_type": "code",
   "execution_count": 2,
   "metadata": {},
   "outputs": [
    {
     "data": {
      "text/html": [
       "<p>To authorize access needed by Earth Engine, open the following\n",
       "        URL in a web browser and follow the instructions:</p>\n",
       "        <p><a href=https://code.earthengine.google.com/client-auth?scopes=https%3A//www.googleapis.com/auth/earthengine%20https%3A//www.googleapis.com/auth/devstorage.full_control&request_id=WIYRJKA5o-BvIrmVzvs_vvsnGF4HFBKEXkY0pznLgfk&tc=suAXAA6_sd16L9nNxICN6kEWcpG9RZZqnPfnnScZEGA&cc=x6soadbuDCAFT244APK4U6fhOM3xohof0EM7mX05DQg>https://code.earthengine.google.com/client-auth?scopes=https%3A//www.googleapis.com/auth/earthengine%20https%3A//www.googleapis.com/auth/devstorage.full_control&request_id=WIYRJKA5o-BvIrmVzvs_vvsnGF4HFBKEXkY0pznLgfk&tc=suAXAA6_sd16L9nNxICN6kEWcpG9RZZqnPfnnScZEGA&cc=x6soadbuDCAFT244APK4U6fhOM3xohof0EM7mX05DQg</a></p>\n",
       "        <p>The authorization workflow will generate a code, which you should paste in the box below.</p>\n",
       "        "
      ],
      "text/plain": [
       "<IPython.core.display.HTML object>"
      ]
     },
     "metadata": {},
     "output_type": "display_data"
    },
    {
     "name": "stdout",
     "output_type": "stream",
     "text": [
      "\n",
      "Successfully saved authorization token.\n"
     ]
    }
   ],
   "source": [
    "ee.Authenticate()"
   ]
  },
  {
   "cell_type": "markdown",
   "metadata": {},
   "source": [
    "Initialize Earth Engine"
   ]
  },
  {
   "cell_type": "code",
   "execution_count": 3,
   "metadata": {},
   "outputs": [],
   "source": [
    "ee.Initialize()"
   ]
  },
  {
   "cell_type": "markdown",
   "metadata": {},
   "source": [
    "Load dataset imagery and define pre and post wildfire period"
   ]
  },
  {
   "cell_type": "code",
   "execution_count": 4,
   "metadata": {},
   "outputs": [],
   "source": [
    "# Load the feature collection\n",
    "geometry = ee.FeatureCollection(\"projects/ee-lorenzocarlassara/assets/rabbitFire\")\n",
    "\n",
    "# Define variables\n",
    "aoi_name = 'Riverside'\n",
    "pre_date_start = '2023-06-13'\n",
    "pre_date_end = '2023-07-13'\n",
    "post_date_start = '2023-07-23'\n",
    "post_date_end = '2023-08-13'\n",
    "point = ee.Geometry.Point(-117.070916, 33.889467)\n",
    "start = '2023-07-14'\n",
    "end = '2023-07-22'\n",
    "ndwiThreshold = 0.45\n",
    "\n",
    "# Center the map on the point\n",
    "Map = geemap.Map()\n",
    "Map.centerObject(point, 11)"
   ]
  },
  {
   "cell_type": "markdown",
   "metadata": {},
   "source": [
    "Define the Area of Interest"
   ]
  },
  {
   "cell_type": "code",
   "execution_count": 5,
   "metadata": {},
   "outputs": [
    {
     "data": {
      "application/vnd.jupyter.widget-view+json": {
       "model_id": "1516d0dfb31942b1a8731069d96ba128",
       "version_major": 2,
       "version_minor": 0
      },
      "text/plain": [
       "Map(center=[33.88946700000001, -117.070916], controls=(WidgetControl(options=['position', 'transparent_bg'], w…"
      ]
     },
     "metadata": {},
     "output_type": "display_data"
    }
   ],
   "source": [
    "# Load the admin2 feature collection\n",
    "admin2 = ee.FeatureCollection('FAO/GAUL_SIMPLIFIED_500m/2015/level2')\n",
    "\n",
    "# Filter the admin2 feature collection based on the ADM2 name\n",
    "aoi = admin2.filter(ee.Filter.eq('ADM2_NAME', aoi_name))\n",
    "\n",
    "# Create visualization parameters\n",
    "vis_params = {'color': 'red'}\n",
    "\n",
    "# Add the AOI layer with the specified visualization parameters\n",
    "Map.addLayer(aoi, vis_params, aoi_name, 0)\n",
    "\n",
    "# Display the map\n",
    "Map"
   ]
  },
  {
   "cell_type": "markdown",
   "metadata": {},
   "source": [
    "FIRMS & MODIS"
   ]
  },
  {
   "cell_type": "code",
   "execution_count": 6,
   "metadata": {},
   "outputs": [],
   "source": [
    "# Load FIRMS dataset\n",
    "dataset = (ee.ImageCollection(\"FIRMS\")\n",
    "           .select(['T21'])\n",
    "           .filterDate(start, end))\n",
    "\n",
    "# Visualization parameters for FIRMS data\n",
    "firesVis = {\n",
    "    'min': 325.0,\n",
    "    'max': 400.0,\n",
    "    'palette': ['yellow', 'orange', 'red']\n",
    "}\n",
    "\n",
    "Map.addLayer(dataset, firesVis, 'Fires')"
   ]
  },
  {
   "cell_type": "markdown",
   "metadata": {},
   "source": [
    "Landsat-8"
   ]
  },
  {
   "cell_type": "code",
   "execution_count": 7,
   "metadata": {},
   "outputs": [],
   "source": [
    "# Load LANDSAT-8 Collection and apply filters\n",
    "LS8Collection = (ee.ImageCollection('LANDSAT/LC08/C02/T1_TOA')\n",
    "                 .filter(ee.Filter.lt('CLOUD_COVER_LAND', 10))\n",
    "                 .filterBounds(aoi))\n",
    "\n",
    "# Calculate pre-fire and post-fire median images\n",
    "LS8_prefire = LS8Collection.filterDate(pre_date_start, pre_date_end).median()\n",
    "LS8_postfire = LS8Collection.filterDate(post_date_start, post_date_end).median()\n",
    "\n",
    "# Visualization parameters for LANDSAT-8 RGB\n",
    "LS8_rgbVis = {\n",
    "    'min': 0.0,\n",
    "    'max': 0.3,\n",
    "    'bands': ['B5', 'B4', 'B3']\n",
    "}"
   ]
  },
  {
   "cell_type": "markdown",
   "metadata": {},
   "source": [
    "Define the function to mask clouds from Sentinel-2 images"
   ]
  },
  {
   "cell_type": "code",
   "execution_count": 8,
   "metadata": {},
   "outputs": [],
   "source": [
    "# Define the maskS2clouds function\n",
    "def maskS2clouds(image):\n",
    "    qa = image.select('QA60')\n",
    "\n",
    "    # Bits 10 and 11 are clouds and cirrus, respectively.\n",
    "    cloudBitMask = 1 << 10\n",
    "    cirrusBitMask = 1 << 11\n",
    "\n",
    "    # Both flags should be set to zero, indicating clear conditions.\n",
    "    mask = qa.bitwiseAnd(cloudBitMask).eq(0) \\\n",
    "        .And(qa.bitwiseAnd(cirrusBitMask).eq(0))\n",
    "\n",
    "    return image.updateMask(mask).divide(10000)"
   ]
  },
  {
   "cell_type": "markdown",
   "metadata": {},
   "source": [
    "Define the pre and post wildfire images from Sentinel-2"
   ]
  },
  {
   "cell_type": "code",
   "execution_count": 9,
   "metadata": {},
   "outputs": [],
   "source": [
    "# Define Sentinel-2 collection and filter conditions\n",
    "SE2Collection = ee.ImageCollection('COPERNICUS/S2_SR') \\\n",
    "                .filter(ee.Filter.lt('CLOUDY_PIXEL_PERCENTAGE', 10)) \\\n",
    "                .filterBounds(aoi)\n",
    "\n",
    "# Define prefire and postfire images\n",
    "prefire = SE2Collection \\\n",
    "          .filterDate('2023-06-13', '2023-07-13') \\\n",
    "          .map(maskS2clouds) \\\n",
    "          .median()\n",
    "\n",
    "postfire = SE2Collection \\\n",
    "           .filterDate('2023-07-23', '2023-08-13') \\\n",
    "           .map(maskS2clouds) \\\n",
    "           .median()\n",
    "\n",
    "# Define the SimpleStyle dictionary for visualization\n",
    "rgb_vis = {'bands': ['TCI_R', 'TCI_G', 'TCI_B']}\n",
    "\n",
    "# Define visualization parameters\n",
    "fireRGB_vis = {'min': 0.0, 'max': 0.3, 'bands': ['B8', 'B4', 'B3']}\n",
    "\n",
    "# Add layers to the map\n",
    "Map.addLayer(postfire, rgb_vis, 'PostFireRGB')\n",
    "Map.addLayer(prefire, rgb_vis, 'PreFireRGB')\n",
    "Map.addLayer(postfire, fireRGB_vis, 'PostFireFRGB')\n",
    "Map.addLayer(prefire, fireRGB_vis, 'PreFireFRGB')"
   ]
  },
  {
   "cell_type": "markdown",
   "metadata": {},
   "source": [
    "Define Normalized Differenfe Water Index to mask water from MSI images"
   ]
  },
  {
   "cell_type": "code",
   "execution_count": 10,
   "metadata": {},
   "outputs": [],
   "source": [
    "# Define the NDWI calculation function\n",
    "def calculate_ndwi(image):\n",
    "    ndwi = image.normalizedDifference(['B3', 'B5']).rename('NDWI')\n",
    "    return ndwi.lt(ndwi_threshold)\n",
    "\n",
    "# Define the NDWI threshold\n",
    "ndwi_threshold = 0.0\n",
    "\n",
    "# Calculate NDWI for pre-fire and post-fire images\n",
    "water_prefire = calculate_ndwi(LS8_prefire)\n",
    "water_postfire = calculate_ndwi(LS8_postfire)\n",
    "\n",
    "# Update water masks and images\n",
    "water_mask_prefire = prefire.updateMask(water_prefire)\n",
    "water_mask_postfire = postfire.updateMask(water_postfire)\n",
    "LS8_prefire = LS8_prefire.updateMask(water_prefire)\n",
    "LS8_postfire = LS8_postfire.updateMask(water_postfire)\n",
    "prefire = prefire.updateMask(water_prefire)\n",
    "postfire = postfire.updateMask(water_postfire)"
   ]
  },
  {
   "cell_type": "markdown",
   "metadata": {},
   "source": [
    "Compute Normalized Burn Ratio for pre-fire and post-fire images of Sentinel-2 and Landsat-8"
   ]
  },
  {
   "cell_type": "code",
   "execution_count": 11,
   "metadata": {},
   "outputs": [],
   "source": [
    "# Calculate NBR for pre-fire and post-fire images\n",
    "postNBR = postfire.normalizedDifference(['B8', 'B12']).select([0], ['NBR'])\n",
    "preNBR = prefire.normalizedDifference(['B8', 'B12']).select([0], ['NBR'])\n",
    "d_NBR = preNBR.subtract(postNBR)\n",
    "dNBR = d_NBR.multiply(1000)\n",
    "\n",
    "# Calculate NBR for LANDSAT-8 pre-fire and post-fire images\n",
    "LS8_postNBR = LS8_postfire.normalizedDifference(['B5', 'B7']).select([0], ['LS8 NBR'])\n",
    "LS8_preNBR = LS8_prefire.normalizedDifference(['B5', 'B7']).select([0], ['LS8 NBR'])\n",
    "LS8_d_NBR = LS8_preNBR.subtract(LS8_postNBR)\n",
    "LS8_dNBR = LS8_d_NBR.multiply(1000)\n",
    "\n",
    "# Define color palette for NBR\n",
    "nbr_vis = {'min': -0.2, 'max': 0.6, 'palette': ['red', 'orange', 'yellow', 'green', 'darkgreen']}\n",
    "\n",
    "# Add layers to the map\n",
    "Map.addLayer(postNBR, nbr_vis, 'PostFireNBR')\n",
    "Map.addLayer(preNBR, nbr_vis, 'PreFireNBR')"
   ]
  },
  {
   "cell_type": "markdown",
   "metadata": {},
   "source": [
    "Compute Burned Area Index for Sentinel-2 images"
   ]
  },
  {
   "cell_type": "code",
   "execution_count": 12,
   "metadata": {},
   "outputs": [],
   "source": [
    "# Burned Area Index for Sentinel-2 function\n",
    "def compute_bais2(image):\n",
    "    B4 = image.select('B4')  # Red\n",
    "    B6 = image.select('B6')  # Red Edge 2\n",
    "    B7 = image.select('B7')  # Red Edge 3\n",
    "    B8A = image.select('B8A')  # Red Edge 4\n",
    "    B12 = image.select('B12')  # Short Wave Infrared 2\n",
    "\n",
    "    term1 = (B6.multiply(B7).multiply(B8A)).sqrt().divide(B4.sqrt())\n",
    "    term2 = B12.subtract(B8A).divide((B12.add(B8A)).sqrt()).add(1)\n",
    "\n",
    "    BAIS2 = ee.Image(0).subtract((ee.Image(1).subtract(term1)).multiply(term2))\n",
    "\n",
    "    return BAIS2.rename('BAIS2')"
   ]
  },
  {
   "cell_type": "code",
   "execution_count": 14,
   "metadata": {},
   "outputs": [],
   "source": [
    "# Calculate BAIS2 for pre-fire and post-fire images\n",
    "postBAIS2 = compute_bais2(postfire)\n",
    "preBAIS2 = compute_bais2(prefire)\n",
    "d_BAIS2 = preBAIS2.subtract(postBAIS2)\n",
    "dBAIS2 = d_BAIS2.multiply(1000)\n",
    "\n",
    "# Define visualization parameters for dNBR and dBAIS2 layers\n",
    "grey_palette = ['white', 'black']\n",
    "# Define visualization parameters for dNBR and dBAIS2 layers\n",
    "grey_vis = {'min': -1000, 'max': 1000, 'palette': grey_palette}\n",
    "\n",
    "# Add layers to the map\n",
    "Map.addLayer(dNBR, grey_vis, 'dNBR greyscale')\n",
    "Map.addLayer(dBAIS2, grey_vis, 'dBAIS2 greyscale')\n",
    "\n",
    "# Define SLD intervals for styling\n",
    "sld_intervals = '''\n",
    "<RasterSymbolizer>\n",
    "  <ColorMap type=\"intervals\" extended=\"false\">\n",
    "    <ColorMapEntry color=\"#ffffff\" quantity=\"-1000\" label=\"-500\"/>\n",
    "    <ColorMapEntry color=\"#7a8737\" quantity=\"-500\" label=\"-250\"/>\n",
    "    <ColorMapEntry color=\"#acbe4d\" quantity=\"-300\" label=\"-100\"/>\n",
    "    <ColorMapEntry color=\"#0ae042\" quantity=\"135\" label=\"100\"/>\n",
    "    <ColorMapEntry color=\"#fff70b\" quantity=\"270\" label=\"270\"/>\n",
    "    <ColorMapEntry color=\"#ffaf38\" quantity=\"440\" label=\"440\"/>\n",
    "    <ColorMapEntry color=\"#ff641b\" quantity=\"660\" label=\"660\"/>\n",
    "    <ColorMapEntry color=\"#a41fd6\" quantity=\"2000\" label=\"2000\"/>\n",
    "  </ColorMap>\n",
    "</RasterSymbolizer>\n",
    "'''\n",
    "\n",
    "# Apply SLD intervals to the layers and add to the map\n",
    "Map.addLayer(dBAIS2.sldStyle(sld_intervals), {}, 'SE2 dBAIS2 classified')\n",
    "Map.addLayer(LS8_dNBR.sldStyle(sld_intervals), {}, 'LS8 dNBR classified')\n",
    "Map.addLayer(dNBR.sldStyle(sld_intervals), {}, 'SE2 dNBR classified')"
   ]
  },
  {
   "cell_type": "code",
   "execution_count": 20,
   "metadata": {},
   "outputs": [
    {
     "name": "stdout",
     "output_type": "stream",
     "text": [
      "31869646.97198032 m^2\n",
      "Burned area: 3187 hectares ( 7877 acres)\n"
     ]
    }
   ],
   "source": [
    "# Clip dNBR to the wildfire aoi geometry\n",
    "clipped_dNBR = dNBR.clip(geometry)\n",
    "\n",
    "# Extract only burned pixels\n",
    "burned_area = clipped_dNBR.gte(100)\n",
    "\n",
    "# Get pixel area of the affected burned layer\n",
    "burned_pixel_area = burned_area.multiply(ee.Image.pixelArea())  # Calculate the area of each pixel\n",
    "\n",
    "# Sum pixels of affected burned layer\n",
    "burned_stats = burned_pixel_area.reduceRegion(\n",
    "    reducer=ee.Reducer.sum(),  # Sum all pixels with area information\n",
    "    geometry=aoi,\n",
    "    scale=30,\n",
    "    maxPixels=1e9\n",
    ")\n",
    "\n",
    "# Print burned_stats\n",
    "print(burned_stats.getNumber('NBR').getInfo(), 'm^2')\n",
    "\n",
    "# Calculate burned area in hectares and acres\n",
    "burned_area_ha = burned_stats.getNumber('NBR').divide(10000).round()\n",
    "burned_area_ac = burned_stats.getNumber('NBR').divide(4046.86).round()\n",
    "\n",
    "# Print burned area in hectares and acres\n",
    "print('Burned area:', burned_area_ha.getInfo(),'hectares', '(',burned_area_ac.getInfo(),'acres)')"
   ]
  },
  {
   "cell_type": "code",
   "execution_count": 21,
   "metadata": {},
   "outputs": [
    {
     "ename": "AttributeError",
     "evalue": "module 'geemap' has no attribute 'legend'",
     "output_type": "error",
     "traceback": [
      "\u001b[1;31m---------------------------------------------------------------------------\u001b[0m",
      "\u001b[1;31mAttributeError\u001b[0m                            Traceback (most recent call last)",
      "Cell \u001b[1;32mIn[21], line 2\u001b[0m\n\u001b[0;32m      1\u001b[0m \u001b[39m# Define the legend panel for dNBR classes\u001b[39;00m\n\u001b[1;32m----> 2\u001b[0m legend \u001b[39m=\u001b[39m geemap\u001b[39m.\u001b[39;49mlegend(outlines\u001b[39m=\u001b[39m[\u001b[39m'\u001b[39m\u001b[39m#7a8737\u001b[39m\u001b[39m'\u001b[39m, \u001b[39m'\u001b[39m\u001b[39m#acbe4d\u001b[39m\u001b[39m'\u001b[39m, \u001b[39m'\u001b[39m\u001b[39m#0ae042\u001b[39m\u001b[39m'\u001b[39m, \u001b[39m'\u001b[39m\u001b[39m#fff70b\u001b[39m\u001b[39m'\u001b[39m, \u001b[39m'\u001b[39m\u001b[39m#ffaf38\u001b[39m\u001b[39m'\u001b[39m, \u001b[39m'\u001b[39m\u001b[39m#ff641b\u001b[39m\u001b[39m'\u001b[39m, \u001b[39m'\u001b[39m\u001b[39m#a41fd6\u001b[39m\u001b[39m'\u001b[39m, \u001b[39m'\u001b[39m\u001b[39m#ffffff\u001b[39m\u001b[39m'\u001b[39m],\n\u001b[0;32m      3\u001b[0m                        labels\u001b[39m=\u001b[39m[\u001b[39m'\u001b[39m\u001b[39mEnhanced Regrowth, High\u001b[39m\u001b[39m'\u001b[39m, \u001b[39m'\u001b[39m\u001b[39mEnhanced Regrowth, Low\u001b[39m\u001b[39m'\u001b[39m, \u001b[39m'\u001b[39m\u001b[39mUnburned\u001b[39m\u001b[39m'\u001b[39m, \u001b[39m'\u001b[39m\u001b[39mLow Severity\u001b[39m\u001b[39m'\u001b[39m,\n\u001b[0;32m      4\u001b[0m                                \u001b[39m'\u001b[39m\u001b[39mModerate-low Severity\u001b[39m\u001b[39m'\u001b[39m, \u001b[39m'\u001b[39m\u001b[39mModerate-high Severity\u001b[39m\u001b[39m'\u001b[39m, \u001b[39m'\u001b[39m\u001b[39mHigh Severity\u001b[39m\u001b[39m'\u001b[39m, \u001b[39m'\u001b[39m\u001b[39mNA\u001b[39m\u001b[39m'\u001b[39m],\n\u001b[0;32m      5\u001b[0m                        title\u001b[39m=\u001b[39m\u001b[39m'\u001b[39m\u001b[39mdNBR Classes\u001b[39m\u001b[39m'\u001b[39m)\n\u001b[0;32m      7\u001b[0m \u001b[39m# Define the results panel\u001b[39;00m\n\u001b[0;32m      8\u001b[0m results \u001b[39m=\u001b[39m geemap\u001b[39m.\u001b[39mpanel([\n\u001b[0;32m      9\u001b[0m     \u001b[39m'\u001b[39m\u001b[39mResults\u001b[39m\u001b[39m'\u001b[39m,\n\u001b[0;32m     10\u001b[0m     \u001b[39mf\u001b[39m\u001b[39m'\u001b[39m\u001b[39m{\u001b[39;00maoi_name\u001b[39m}\u001b[39;00m\u001b[39m wildfire period:\u001b[39m\u001b[39m'\u001b[39m,\n\u001b[1;32m   (...)\u001b[0m\n\u001b[0;32m     16\u001b[0m     \u001b[39m'\u001b[39m\u001b[39mPolitecnico di Milano 2023-08-24\u001b[39m\u001b[39m'\u001b[39m\n\u001b[0;32m     17\u001b[0m ], widget_type\u001b[39m=\u001b[39m\u001b[39m'\u001b[39m\u001b[39mlabel\u001b[39m\u001b[39m'\u001b[39m)\n",
      "\u001b[1;31mAttributeError\u001b[0m: module 'geemap' has no attribute 'legend'"
     ]
    }
   ],
   "source": [
    "# Define the legend panel for dNBR classes\n",
    "legend = geemap.legend(outlines=['#7a8737', '#acbe4d', '#0ae042', '#fff70b', '#ffaf38', '#ff641b', '#a41fd6', '#ffffff'],\n",
    "                       labels=['Enhanced Regrowth, High', 'Enhanced Regrowth, Low', 'Unburned', 'Low Severity',\n",
    "                               'Moderate-low Severity', 'Moderate-high Severity', 'High Severity', 'NA'],\n",
    "                       title='dNBR Classes')\n",
    "\n",
    "# Define the results panel\n",
    "results = geemap.panel([\n",
    "    'Results',\n",
    "    f'{aoi_name} wildfire period:',\n",
    "    f'{start} and {end}',\n",
    "    'Estimated burned area:',\n",
    "    'based on Sentinel-2 MSI (20m)',\n",
    "    'Please wait...',\n",
    "    'Script produced by: Lorenzo Carlassara',\n",
    "    'Politecnico di Milano 2023-08-24'\n",
    "], widget_type='label')\n",
    "\n",
    "# Create a map and add legend and results panels\n",
    "Map = geemap.Map()\n",
    "Map.add_legend(legend, position='bottomright')\n",
    "Map.add_panel(results, position='bottomleft', width='350px')\n",
    "Map.centerObject(geometry, 11)"
   ]
  }
 ],
 "metadata": {
  "kernelspec": {
   "display_name": "eo",
   "language": "python",
   "name": "python3"
  },
  "language_info": {
   "codemirror_mode": {
    "name": "ipython",
    "version": 3
   },
   "file_extension": ".py",
   "mimetype": "text/x-python",
   "name": "python",
   "nbconvert_exporter": "python",
   "pygments_lexer": "ipython3",
   "version": "3.10.10"
  },
  "orig_nbformat": 4
 },
 "nbformat": 4,
 "nbformat_minor": 2
}
