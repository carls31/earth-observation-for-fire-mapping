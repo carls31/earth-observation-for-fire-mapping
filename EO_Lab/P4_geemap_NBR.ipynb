{
 "cells": [
  {
   "cell_type": "markdown",
   "id": "52fa22bf-45f3-45f1-99a5-093cccb5499f",
   "metadata": {
    "tags": []
   },
   "source": [
    "# Burnt area mapping using spectral indices - Normalized Burn Ratio (NBR) "
   ]
  },
  {
   "cell_type": "markdown",
   "id": "78dac154-735f-4c3d-aae5-0b3579b6e080",
   "metadata": {
    "tags": []
   },
   "source": [
    "### Import libraries"
   ]
  },
  {
   "cell_type": "code",
   "execution_count": 1,
   "id": "ba55df59-79b0-4569-93f0-3bada3044673",
   "metadata": {},
   "outputs": [],
   "source": [
    "import geemap\n",
    "import ee"
   ]
  },
  {
   "cell_type": "markdown",
   "id": "68fd9f1f-8fbc-4ad9-9936-0168c81c9471",
   "metadata": {},
   "source": [
    "Autenthication with a Google account:"
   ]
  },
  {
   "cell_type": "code",
   "execution_count": 2,
   "id": "83c16e53-d8e9-4abd-804a-210943f28096",
   "metadata": {},
   "outputs": [
    {
     "data": {
      "text/html": [
       "<p>To authorize access needed by Earth Engine, open the following\n",
       "        URL in a web browser and follow the instructions:</p>\n",
       "        <p><a href=https://code.earthengine.google.com/client-auth?scopes=https%3A//www.googleapis.com/auth/earthengine%20https%3A//www.googleapis.com/auth/devstorage.full_control&request_id=d9_KyuxPGfAYJjtC1GwFyf6z3UDi14uGCdW_U6_NLoY&tc=mxWxdOfwqdTMuyHE6U8lFYuBLyw9IbCStzZYZiLUN9I&cc=PaywkTywj64-H7FmIeHQM-kcxjg-1UztwclxHv-SH6U>https://code.earthengine.google.com/client-auth?scopes=https%3A//www.googleapis.com/auth/earthengine%20https%3A//www.googleapis.com/auth/devstorage.full_control&request_id=d9_KyuxPGfAYJjtC1GwFyf6z3UDi14uGCdW_U6_NLoY&tc=mxWxdOfwqdTMuyHE6U8lFYuBLyw9IbCStzZYZiLUN9I&cc=PaywkTywj64-H7FmIeHQM-kcxjg-1UztwclxHv-SH6U</a></p>\n",
       "        <p>The authorization workflow will generate a code, which you should paste in the box below.</p>\n",
       "        "
      ],
      "text/plain": [
       "<IPython.core.display.HTML object>"
      ]
     },
     "metadata": {},
     "output_type": "display_data"
    },
    {
     "name": "stdout",
     "output_type": "stream",
     "text": [
      "\n",
      "Successfully saved authorization token.\n"
     ]
    }
   ],
   "source": [
    "ee.Authenticate()"
   ]
  },
  {
   "cell_type": "code",
   "execution_count": 3,
   "id": "cd71cf85-d26b-4708-aa2b-0bff1ffdfec2",
   "metadata": {},
   "outputs": [],
   "source": [
    "ee.Initialize()"
   ]
  },
  {
   "cell_type": "markdown",
   "id": "53e30d05-761d-4e52-b82f-3ec3ace28ecb",
   "metadata": {
    "tags": []
   },
   "source": [
    "### Show a Map"
   ]
  },
  {
   "cell_type": "code",
   "execution_count": 4,
   "id": "913ed17d-3794-4357-b8d4-e49f9fb44ed0",
   "metadata": {},
   "outputs": [
    {
     "data": {
      "application/vnd.jupyter.widget-view+json": {
       "model_id": "b8f90db3c8b44c10adc05cd2bfffb3bb",
       "version_major": 2,
       "version_minor": 0
      },
      "text/plain": [
       "Map(center=[38.02669477786318, 22.609144303333114], controls=(WidgetControl(options=['position', 'transparent_…"
      ]
     },
     "metadata": {},
     "output_type": "display_data"
    }
   ],
   "source": [
    "Map = geemap.Map(center=[38.02669477786318, 22.609144303333114], zoom=12)\n",
    "Map"
   ]
  },
  {
   "cell_type": "markdown",
   "id": "37affbd6-6dd0-46e7-957f-0d3684e262ba",
   "metadata": {},
   "source": [
    "Select pre-fire image (date 2018-07-03):"
   ]
  },
  {
   "cell_type": "code",
   "execution_count": 6,
   "id": "44a411c5-7004-4631-a12f-05366200820c",
   "metadata": {},
   "outputs": [],
   "source": [
    "image_prefire = ee.Image('COPERNICUS/S2_SR/20180703T092031_20180703T092224_T34SFH')"
   ]
  },
  {
   "cell_type": "markdown",
   "id": "47ec0fd2-4f45-4509-9444-af9c6096cf52",
   "metadata": {},
   "source": [
    "Visualization parameters definition:"
   ]
  },
  {
   "cell_type": "code",
   "execution_count": 7,
   "id": "98238829-1f9b-4c03-a1f9-ccdb63351c98",
   "metadata": {},
   "outputs": [],
   "source": [
    "vis = {\"bands\": ['B4', 'B3', 'B2'], \"min\": 0, \"max\": 3000} #Is possible to change bands (NIR ='B5', 'B4', 'B3'))"
   ]
  },
  {
   "cell_type": "code",
   "execution_count": 8,
   "id": "aadf866e-d5c0-438a-8542-b47d7ec06a93",
   "metadata": {},
   "outputs": [],
   "source": [
    "Map.addLayer(image_prefire, vis, \"Prefire RGB\")\n",
    "Map.centerObject(image_prefire, zoom= 9)\n",
    "#Map"
   ]
  },
  {
   "cell_type": "markdown",
   "id": "5058ca10-1112-4a51-98c9-816970a441d8",
   "metadata": {},
   "source": [
    "Select post-fire image (date 2018-07-28):"
   ]
  },
  {
   "cell_type": "code",
   "execution_count": 9,
   "id": "b995e677-f326-4752-ba98-1a0db255b562",
   "metadata": {},
   "outputs": [],
   "source": [
    "image_postfire = ee.Image('COPERNICUS/S2_SR/20180728T092029_20180728T092658_T34SFH')"
   ]
  },
  {
   "cell_type": "code",
   "execution_count": 10,
   "id": "5f194132-cfda-4628-b929-745d22ca3dc4",
   "metadata": {
    "tags": []
   },
   "outputs": [
    {
     "data": {
      "application/vnd.jupyter.widget-view+json": {
       "model_id": "b8f90db3c8b44c10adc05cd2bfffb3bb",
       "version_major": 2,
       "version_minor": 0
      },
      "text/plain": [
       "Map(bottom=50659.0, center=[38.340904109270916, 22.772270981194918], controls=(WidgetControl(options=['positio…"
      ]
     },
     "metadata": {},
     "output_type": "display_data"
    }
   ],
   "source": [
    "Map.addLayer(image_postfire, vis, \"Postfire RGB \")\n",
    "Map.centerObject(image_postfire, zoom= 9)\n",
    "Map"
   ]
  },
  {
   "cell_type": "markdown",
   "id": "fa001a10-b4a8-41c8-be5f-5a1434257b48",
   "metadata": {},
   "source": [
    "### Compute NBR for pre and post fire and their difference (dNBR)"
   ]
  },
  {
   "cell_type": "code",
   "execution_count": 11,
   "id": "fc4a03d5-6e28-40a1-be22-c5826395d13b",
   "metadata": {},
   "outputs": [],
   "source": [
    "nbr_pre = image_prefire.normalizedDifference(['B8','B12'])"
   ]
  },
  {
   "cell_type": "code",
   "execution_count": 12,
   "id": "eb6d5e82-cf21-4b10-91c6-9239b04b2590",
   "metadata": {},
   "outputs": [],
   "source": [
    "nbr_post = image_postfire.normalizedDifference(['B8','B12'])"
   ]
  },
  {
   "cell_type": "code",
   "execution_count": 13,
   "id": "73b6c0a1-dad6-4f2a-b76b-6616adc5253e",
   "metadata": {},
   "outputs": [],
   "source": [
    "dnbr = nbr_pre.subtract(nbr_post)"
   ]
  },
  {
   "cell_type": "code",
   "execution_count": 14,
   "id": "ed153010-c263-4d2d-b27e-1688b670be3b",
   "metadata": {},
   "outputs": [
    {
     "data": {
      "application/vnd.jupyter.widget-view+json": {
       "model_id": "b8f90db3c8b44c10adc05cd2bfffb3bb",
       "version_major": 2,
       "version_minor": 0
      },
      "text/plain": [
       "Map(bottom=50700.0, center=[38.34165619279595, 22.76779174804688], controls=(WidgetControl(options=['position'…"
      ]
     },
     "metadata": {},
     "output_type": "display_data"
    }
   ],
   "source": [
    "vis_nbr = {'min': -0.5, 'max': 1.5, 'palette': ['green', 'white', 'red']}\n",
    "\n",
    "Map.addLayer(dnbr, vis_nbr, 'dNBR')\n",
    "Map.add_colorbar(vis_nbr, label=\"dNBR\", layer_name=\"dNBR\")\n",
    "Map"
   ]
  },
  {
   "cell_type": "markdown",
   "id": "6da3502a-8207-452a-9362-bdf6ba8a57ea",
   "metadata": {},
   "source": [
    "### References and additional material"
   ]
  },
  {
   "cell_type": "markdown",
   "id": "3a6a2b9a-7578-40b7-abe7-db06db1cbb78",
   "metadata": {},
   "source": [
    "- [Google Earth Engine Catalog](https://developers.google.com/earth-engine/datasets)\n",
    "- [Geemap](https://geemap.org/) library documentation\n",
    "- [Google Earth Engine API installation](https://developers.google.com/earth-engine/guides/python_install)"
   ]
  }
 ],
 "metadata": {
  "kernelspec": {
   "display_name": "Python 3 (ipykernel)",
   "language": "python",
   "name": "python3"
  },
  "language_info": {
   "codemirror_mode": {
    "name": "ipython",
    "version": 3
   },
   "file_extension": ".py",
   "mimetype": "text/x-python",
   "name": "python",
   "nbconvert_exporter": "python",
   "pygments_lexer": "ipython3",
   "version": "3.10.9"
  }
 },
 "nbformat": 4,
 "nbformat_minor": 5
}
